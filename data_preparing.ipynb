{
 "cells": [
  {
   "cell_type": "markdown",
   "metadata": {},
   "source": [
    "Importing Pandas"
   ]
  },
  {
   "cell_type": "code",
   "execution_count": 107,
   "metadata": {},
   "outputs": [],
   "source": [
    "import pandas as pd"
   ]
  },
  {
   "cell_type": "markdown",
   "metadata": {},
   "source": [
    "Converting bua into a csv file"
   ]
  },
  {
   "cell_type": "code",
   "execution_count": 108,
   "metadata": {},
   "outputs": [],
   "source": [
    "#reading the XLS file\n",
    "bua_xls = pd.read_excel(\"initial_data/bua.xls\")\n",
    "\n",
    "#saving it as a csv file\n",
    "bua_xls.to_csv(\"fixed_csv_files/bua_converted.csv\", index=False, encoding=\"utf-8\")\n",
    "bua = pd.read_csv(\"fixed_csv_files/bua_converted.csv\")"
   ]
  },
  {
   "cell_type": "markdown",
   "metadata": {},
   "source": [
    "Adding a header to buf"
   ]
  },
  {
   "cell_type": "code",
   "execution_count": 109,
   "metadata": {},
   "outputs": [],
   "source": [
    "#creating the headers\n",
    "headers = [\"Cote\", \"Titre\", \"Auteur\", \"Lieu\", \"Edition\", \"Annee\", \"Nb pages\", \"Matiere\", \"Inventaire\"]\n",
    "\n",
    "#loading CSV without header\n",
    "buf = pd.read_csv(\"initial_data/buf.csv\", names=headers, encoding=\"ISO-8859-1\", delimiter=\";\")\n",
    "\n",
    "#saving the corrected CSV\n",
    "buf.to_csv(\"fixed_csv_files/fixed_buf.csv\", index=False, encoding=\"utf-8\")"
   ]
  },
  {
   "cell_type": "markdown",
   "metadata": {},
   "source": [
    "removing duplicates"
   ]
  },
  {
   "cell_type": "code",
   "execution_count": 110,
   "metadata": {},
   "outputs": [],
   "source": [
    "buf = buf.drop_duplicates()\n",
    "bua = bua.drop_duplicates()\n",
    "\n",
    "#removing leading/trailing spaces from column names if any\n",
    "buf.columns = bua.columns.str.strip()\n",
    "bua.columns = bua.columns.str.strip()"
   ]
  },
  {
   "cell_type": "markdown",
   "metadata": {},
   "source": [
    "data transformation"
   ]
  },
  {
   "cell_type": "code",
   "execution_count": 111,
   "metadata": {},
   "outputs": [],
   "source": [
    "# Convert 'Annee' to numeric, forcing errors to NaN (if there are any invalid entries)\n",
    "buf['Annee'] = pd.to_numeric(buf['Annee'], errors='coerce')\n",
    "buf['Nb pages'] = pd.to_numeric(buf['Nb pages'], errors='coerce')\n",
    "\n",
    "bua['Annee'] = pd.to_numeric(buf['Annee'], errors='coerce')\n",
    "bua['Nb pages'] = pd.to_numeric(buf['Nb pages'], errors='coerce')"
   ]
  },
  {
   "cell_type": "markdown",
   "metadata": {},
   "source": [
    "Check for Missing Values"
   ]
  },
  {
   "cell_type": "code",
   "execution_count": 112,
   "metadata": {},
   "outputs": [
    {
     "name": "stdout",
     "output_type": "stream",
     "text": [
      "Cote            0\n",
      "Titre           0\n",
      "Auteur         13\n",
      "Lieu          313\n",
      "Edition       108\n",
      "Annee          14\n",
      "Nb pages       70\n",
      "Matiere         1\n",
      "Inventaire      0\n",
      "dtype: int64\n"
     ]
    }
   ],
   "source": [
    "# Check for missing values in each column\n",
    "print(buf.isnull().sum())"
   ]
  },
  {
   "cell_type": "code",
   "execution_count": 113,
   "metadata": {},
   "outputs": [
    {
     "name": "stdout",
     "output_type": "stream",
     "text": [
      "Cote            0\n",
      "Titre          26\n",
      "Auteur          0\n",
      "Lieu          474\n",
      "Edition       766\n",
      "Annee           3\n",
      "Nb pages       16\n",
      "Matiere        13\n",
      "Inventaire      2\n",
      "dtype: int64\n"
     ]
    }
   ],
   "source": [
    "# Check for missing values in each column\n",
    "print(bua.isnull().sum())"
   ]
  },
  {
   "cell_type": "markdown",
   "metadata": {},
   "source": [
    "Cleaning buf"
   ]
  },
  {
   "cell_type": "code",
   "execution_count": 114,
   "metadata": {},
   "outputs": [
    {
     "name": "stdout",
     "output_type": "stream",
     "text": [
      "Cote          0\n",
      "Titre         0\n",
      "Auteur        0\n",
      "Lieu          0\n",
      "Edition       0\n",
      "Annee         0\n",
      "Nb pages      0\n",
      "Matiere       0\n",
      "Inventaire    0\n",
      "dtype: int64\n"
     ]
    }
   ],
   "source": [
    "# Fill missing values with \"Inconnu\" (Unknown) for categorical fields\n",
    "buf['Auteur'] = buf['Auteur'].fillna('Inconnu')  # Replace missing authors with \"Inconnu\"\n",
    "buf['Lieu'] = buf['Lieu'].fillna('Inconnu')  # Replace missing locations with \"Inconnu\"\n",
    "buf['Edition'] = buf['Edition'].fillna('Non spécifié')  # Replace missing editions with \"Non spécifié\"\n",
    "buf['Matiere'] = buf['Matiere'].fillna('Inconnu')  # Replace missing subjects with \"Inconnu\"\n",
    "\n",
    "\n",
    "# For numerical fields like \"Annee\" and \"Nb pages\", use the median or mode\n",
    "buf['Annee'] = buf['Annee'].fillna(buf['Annee'].median())  # Fill missing years with median\n",
    "buf['Nb pages'] = buf['Nb pages'].fillna(buf['Nb pages'].median())  # Fill missing pages with median\n",
    "\n",
    "# Check missing values\n",
    "print(buf.isnull().sum())\n",
    "\n",
    "# Save cleaned French dataset\n",
    "buf.to_csv(\"cleaned_data/cleaned_buf.csv\", index=False, encoding=\"utf-8\")\n"
   ]
  },
  {
   "cell_type": "markdown",
   "metadata": {},
   "source": [
    "Cleaning bua"
   ]
  },
  {
   "cell_type": "code",
   "execution_count": 115,
   "metadata": {},
   "outputs": [
    {
     "name": "stdout",
     "output_type": "stream",
     "text": [
      "Cote          0\n",
      "Titre         0\n",
      "Auteur        0\n",
      "Lieu          0\n",
      "Edition       0\n",
      "Annee         0\n",
      "Nb pages      0\n",
      "Matiere       0\n",
      "Inventaire    0\n",
      "dtype: int64\n"
     ]
    }
   ],
   "source": [
    "\n",
    "#droping rows with missing 'Inventaire' and 'Titre' values\n",
    "bua = bua.dropna(subset=['Titre'])\n",
    "bua = bua.dropna(subset=['Inventaire'])\n",
    "\n",
    "\n",
    "#filling missing values with Arabic terms for categorical columns\n",
    "bua['Lieu'] = bua['Lieu'].fillna('غير محدد')  # Replace missing locations with \"غير محدد\"\n",
    "bua['Edition'] = bua['Edition'].fillna('غير محدد')  # Replace missing editions with \"غير محدد\"\n",
    "bua['Matiere'] = bua['Matiere'].fillna('غير محدد')  # Replace missing subjects with \"غير محدد\"\n",
    "\n",
    "\n",
    "# For numerical columns, use the median to fill missing values\n",
    "bua['Annee'] = bua['Annee'].fillna(bua['Annee'].median())  # Fill missing years with median\n",
    "bua['Nb pages'] = bua['Nb pages'].fillna(bua['Nb pages'].median())  # Fill missing pages with median\n",
    "\n",
    "# Check if any missing values remain\n",
    "print(bua.isnull().sum())\n",
    "\n",
    "# Save the cleaned Arabic dataset\n",
    "bua.to_csv(\"cleaned_data/cleaned_bua.csv\", index=False, encoding=\"utf-8\")\n"
   ]
  }
 ],
 "metadata": {
  "kernelspec": {
   "display_name": "Python 3",
   "language": "python",
   "name": "python3"
  },
  "language_info": {
   "codemirror_mode": {
    "name": "ipython",
    "version": 3
   },
   "file_extension": ".py",
   "mimetype": "text/x-python",
   "name": "python",
   "nbconvert_exporter": "python",
   "pygments_lexer": "ipython3",
   "version": "3.13.0"
  }
 },
 "nbformat": 4,
 "nbformat_minor": 2
}
